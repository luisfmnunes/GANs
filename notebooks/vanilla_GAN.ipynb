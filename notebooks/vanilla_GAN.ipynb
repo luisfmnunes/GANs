{
 "cells": [
  {
   "cell_type": "markdown",
   "metadata": {},
   "source": [
    "# Vanilla GAN\n",
    "\n",
    "This project consist in the implementation of a simple GAN (Generator + Discriminator) using the MNIST Dataset and Pytorch framework.\n",
    "The implementation is based on Ian Godfellow's basic GAN implementation. It uses the same loss based on the logarithm (ln(x))\n",
    "\n",
    "A [utilities package](../utils/) is implemented before and alongside the notebook in order to provide basic functionalities regarding building tensors, logging training results, building the networks backbones and providing basic transforms for processing. "
   ]
  },
  {
   "cell_type": "code",
   "execution_count": 56,
   "metadata": {},
   "outputs": [],
   "source": [
    "import torch\n",
    "from torch import nn, optim\n",
    "from torch.autograd.variable import Variable\n",
    "from torchvision import transforms, datasets\n",
    "\n",
    "from utils.logger import Logger\n",
    "from utils.networks import DiscriminatorNet, GeneratorNet\n",
    "from utils.transforms import images_to_vectors, vectors_to_images, noise\n",
    "from utils.tensors import ones_target, zeros_target"
   ]
  },
  {
   "cell_type": "markdown",
   "metadata": {},
   "source": [
    "## Downloading Dataset\n",
    "\n",
    "The dataset is downloaded from torchvision datasets package, downloading the training set in the dataset folder.\n",
    "\n",
    "The dataset is preprocessed, using image normalization transforms (pixel values in [-1,1] interval), and flattening the image vector\n",
    "\n",
    "A torch data_loader with batch_size 100 is used as data manager"
   ]
  },
  {
   "cell_type": "code",
   "execution_count": 42,
   "metadata": {},
   "outputs": [],
   "source": [
    "def mnist_data():\n",
    "    compose = transforms.Compose(\n",
    "        [\n",
    "            transforms.ToTensor(),\n",
    "            transforms.Normalize((.5),(.5))\n",
    "        ]\n",
    "    )\n",
    "    out_dir = './dataset'\n",
    "    return datasets.MNIST(root=out_dir, transform=compose, train=True, download=True)\n",
    "\n",
    "data = mnist_data()\n",
    "\n",
    "data_loader = torch.utils.data.DataLoader(data, batch_size=100,shuffle=True)\n",
    "num_batches = len(data_loader)"
   ]
  },
  {
   "cell_type": "markdown",
   "metadata": {},
   "source": [
    "## Models\n",
    "\n",
    "The model objects of both the discriminator and generator are instantiaded bellow, using the backbone implementation contained in [networks utilities package](../utils/networks.py)\n",
    "\n",
    "Both backbones consist in simple graphs containing combinations of batch normalization, dropouts and fully connected layers. Also both models are designed in order to receive and generate dimensionally matching tensors (discriminator with a 784 [or 28x28] image input, and generetor outputing a 784 tensor)"
   ]
  },
  {
   "cell_type": "code",
   "execution_count": 43,
   "metadata": {},
   "outputs": [],
   "source": [
    "discriminator = DiscriminatorNet()\n",
    "generator = GeneratorNet()"
   ]
  },
  {
   "cell_type": "markdown",
   "metadata": {},
   "source": [
    "## Optimizers\n",
    "In both cases an Adam optimizer is used with a small learning rate of 0.0002"
   ]
  },
  {
   "cell_type": "code",
   "execution_count": 44,
   "metadata": {},
   "outputs": [],
   "source": [
    "d_optimizer = optim.Adam(discriminator.parameters(), lr=2e-4)\n",
    "g_optimizer = optim.Adam(generator.parameters(), lr=2e-4)"
   ]
  },
  {
   "cell_type": "code",
   "execution_count": 45,
   "metadata": {},
   "outputs": [
    {
     "data": {
      "text/plain": [
       "<bound method Optimizer.state_dict of Adam (\n",
       "Parameter Group 0\n",
       "    amsgrad: False\n",
       "    betas: (0.9, 0.999)\n",
       "    eps: 1e-08\n",
       "    lr: 0.0002\n",
       "    maximize: False\n",
       "    weight_decay: 0\n",
       ")>"
      ]
     },
     "execution_count": 45,
     "metadata": {},
     "output_type": "execute_result"
    }
   ],
   "source": [
    "d_optimizer.state_dict"
   ]
  },
  {
   "cell_type": "markdown",
   "metadata": {},
   "source": [
    "## Loss\n",
    "\n",
    "A Binary Cross Entropy Loss is chosen since it resembles the log-loss of both the Generator and Discriminator"
   ]
  },
  {
   "cell_type": "code",
   "execution_count": 46,
   "metadata": {},
   "outputs": [],
   "source": [
    "loss = nn.BCELoss()"
   ]
  },
  {
   "cell_type": "markdown",
   "metadata": {},
   "source": [
    "## Train Routines\n",
    "\n",
    "Below are the training routines for both the discriminator and generator, alongside the full GAN model training\n",
    "\n",
    "The resulting images from the generator (random input noise) and the model errors are displayed and updated every 100 batches"
   ]
  },
  {
   "cell_type": "code",
   "execution_count": 47,
   "metadata": {},
   "outputs": [],
   "source": [
    "def train_discriminator(optimizer, real_data, fake_data):\n",
    "    N = real_data.size(0)\n",
    "    optimizer.zero_grad() # <- reset gradients\n",
    "\n",
    "    prediction_real = discriminator(real_data)\n",
    "    error_real = loss(prediction_real, ones_target(N))\n",
    "    error_real.backward()\n",
    "\n",
    "    prediction_fake = discriminator(fake_data)\n",
    "    error_fake = loss(prediction_fake, zeros_target(N))\n",
    "    error_fake.backward()\n",
    "\n",
    "    optimizer.step()\n",
    "\n",
    "    return error_real + error_fake, prediction_real, prediction_fake\n"
   ]
  },
  {
   "cell_type": "code",
   "execution_count": 48,
   "metadata": {},
   "outputs": [],
   "source": [
    "def train_generator(optimizer, fake_data):\n",
    "    N = fake_data.size(0)\n",
    "\n",
    "    optimizer.zero_grad() # <- reset gradients\n",
    "\n",
    "    prediction = discriminator(fake_data)\n",
    "\n",
    "    error = loss(prediction, ones_target(N))\n",
    "    error.backward()\n",
    "\n",
    "    optimizer.step()\n",
    "\n",
    "    return error\n",
    "    "
   ]
  },
  {
   "cell_type": "code",
   "execution_count": 49,
   "metadata": {},
   "outputs": [],
   "source": [
    "num_test_samples = 16\n",
    "test_noise = noise(num_test_samples)"
   ]
  },
  {
   "cell_type": "code",
   "execution_count": 50,
   "metadata": {},
   "outputs": [
    {
     "data": {
      "image/png": "[encoded data removed]",
      "text/plain": [
       "<Figure size 1152x1152 with 1 Axes>"
      ]
     },
     "metadata": {},
     "output_type": "display_data"
    },
    {
     "name": "stdout",
     "output_type": "stream",
     "text": [
      "Epoch: [199/200], Batch Num: [500/600]\n",
      "Discriminator Loss: 1.2477, Generator Loss: 0.9591\n",
      "D(x): 0.5760, D(G(z)): 0.4537\n"
     ]
    }
   ],
   "source": [
    "# Create logger instance\n",
    "logger = Logger(model_name='VGAN', data_name='MNIST')\n",
    "\n",
    "# Total number of training epochs\n",
    "num_epochs = 200\n",
    "\n",
    "for epoch in range(num_epochs):\n",
    "    for n_batch, (real_batch, _) in enumerate(data_loader):\n",
    "        N = real_batch.size(0)\n",
    "\n",
    "        real_data = Variable(images_to_vectors(real_batch))\n",
    "        fake_data = generator(noise(N)).detach()\n",
    "\n",
    "        d_error, d_pred_real, d_pred_fake = train_discriminator(d_optimizer, real_data, fake_data)\n",
    "\n",
    "        fake_data = generator(noise(N))\n",
    "\n",
    "        g_error = train_generator(g_optimizer, fake_data)\n",
    "\n",
    "        logger.log(d_error, g_error, epoch, n_batch, num_batches)\n",
    "\n",
    "        if(n_batch) % 100 == 0:\n",
    "            test_images = vectors_to_images(generator(test_noise))\n",
    "            test_images = test_images.data\n",
    "\n",
    "            logger.log_images(\n",
    "                test_images, num_test_samples,\n",
    "                epoch, n_batch, num_batches, format=None\n",
    "            )\n",
    "\n",
    "            logger.display_status(\n",
    "                epoch, num_epochs, n_batch, num_batches,\n",
    "                d_error, g_error, d_pred_real, d_pred_fake\n",
    "            )"
   ]
  },
  {
   "cell_type": "code",
   "execution_count": 51,
   "metadata": {},
   "outputs": [],
   "source": [
    "# Saves the trained model\n",
    "logger.save_models(epoch=200, discriminator=discriminator, generator=generator)"
   ]
  },
  {
   "cell_type": "markdown",
   "metadata": {},
   "source": [
    "## Loading Models and Exporting to ONNX"
   ]
  },
  {
   "cell_type": "code",
   "execution_count": 52,
   "metadata": {},
   "outputs": [
    {
     "name": "stdout",
     "output_type": "stream",
     "text": [
      "(58493) [INFO] Loading pretrained discriminator data/models/VGAN/MNIST/D_epoch_200.pt\n",
      "(58493) [INFO] Loading pretrained generator data/models/VGAN/MNIST/G_epoch_200.pt\n",
      "(58493) [INFO] Exporting Discriminator to data/models/VGAN/MNIST/D_epoch_200_onnx.onnx\n",
      "(58493) [INFO] Exported Discriminator to data/models/VGAN/MNIST/D_epoch_200_onnx.onnx\n",
      "(58493) [INFO] Exporting Generator to data/models/VGAN/MNIST/G_epoch_200_onnx.onnx\n",
      "(58493) [INFO] Exported Generator to data/models/VGAN/MNIST/G_epoch_200_onnx.onnx\n"
     ]
    }
   ],
   "source": [
    "from utils.onnx_utils import torch_to_onnx, load_models\n",
    "import sys\n",
    "import logging\n",
    "\n",
    "logging.basicConfig(format='(%(process)s) [%(levelname)s] %(message)s', level=logging.INFO, stream=sys.stdout, encoding='utf-8')\n",
    "log = logging.getLogger('ExportLog')\n",
    "\n",
    "discriminator, generator = load_models(root_dir='data/models/VGAN/MNIST', epoch=200, logger=log)\n",
    "torch_to_onnx(root_dir='data/models/VGAN/MNIST', discriminator= discriminator, generator=generator, epoch=200, logger=log)"
   ]
  },
  {
   "cell_type": "markdown",
   "metadata": {},
   "source": [
    "## Using ONNX for Inference\n",
    "\n",
    "Using ONNX converted models for inference, and measuring the inference time.\n",
    "\n",
    "Displaying generator result from random noise with matplotlib"
   ]
  },
  {
   "cell_type": "code",
   "execution_count": 120,
   "metadata": {},
   "outputs": [
    {
     "name": "stdout",
     "output_type": "stream",
     "text": [
      "(58493) [INFO] Inference time: 0.000852s\n",
      "(58493) [INFO] Final Output Shape: (8, 28, 28, 1)\n"
     ]
    },
    {
     "data": {
      "image/png": "[encoded data removed]",
      "text/plain": [
       "<Figure size 432x288 with 1 Axes>"
      ]
     },
     "metadata": {
      "needs_background": "light"
     },
     "output_type": "display_data"
    }
   ],
   "source": [
    "import onnxruntime as ort\n",
    "import numpy as np\n",
    "import time\n",
    "import cv2\n",
    "import matplotlib.pyplot as plt\n",
    "%matplotlib inline\n",
    "\n",
    "opts = ort.SessionOptions()\n",
    "opts.graph_optimization_level = ort.GraphOptimizationLevel.ORT_ENABLE_ALL\n",
    "sess = ort.InferenceSession('data/models/VGAN/MNIST/G_epoch_200_onnx.onnx',sess_options=opts)\n",
    "input_names = [i.name for i in sess.get_inputs()]\n",
    "output_names = [o.name for o in sess.get_outputs()]\n",
    "\n",
    "in_noise = noise(8).numpy()\n",
    "#print(in_noise)\n",
    "\n",
    "start = time.time()\n",
    "output = sess.run(output_names, {i: in_noise for i in input_names})\n",
    "end = time.time() - start\n",
    "\n",
    "log.info(f\"Inference time: {end:.6f}s\")\n",
    "\n",
    "# output = vectors_to_images(torch.from_numpy(output))\n",
    "output = np.reshape(output, (-1,28,28))\n",
    "output = output[...,np.newaxis]\n",
    "output = cv2.normalize(output, None, 0, 1, cv2.NORM_MINMAX)\n",
    "log.info(f\"Final Output Shape: {output.shape}\")\n",
    "img = cv2.hconcat(output)\n",
    "plt.imshow(img)\n",
    "plt.show()"
   ]
  },
  {
   "cell_type": "markdown",
   "metadata": {},
   "source": [
    "## Tensorboard Training Visualization\n",
    "\n",
    "Using Tensorboard to plot SummaryWriter events."
   ]
  },
  {
   "cell_type": "code",
   "execution_count": 126,
   "metadata": {},
   "outputs": [
    {
     "name": "stdout",
     "output_type": "stream",
     "text": [
      "The tensorboard extension is already loaded. To reload it, use:\n",
      "  %reload_ext tensorboard\n"
     ]
    },
    {
     "data": {
      "text/plain": [
       "Reusing TensorBoard on port 6006 (pid 3134572), started 0:08:50 ago. (Use '!kill 3134572' to kill it.)"
      ]
     },
     "metadata": {},
     "output_type": "display_data"
    },
    {
     "data": {
      "text/html": [
       "\n",
       "      <iframe id=\"tensorboard-frame-8c68757f59cfc6d3\" width=\"100%\" height=\"800\" frameborder=\"0\">\n",
       "      </iframe>\n",
       "      <script>\n",
       "        (function() {\n",
       "          const frame = document.getElementById(\"tensorboard-frame-8c68757f59cfc6d3\");\n",
       "          const url = new URL(\"http://localhost\");\n",
       "          const port = 6006;\n",
       "          if (port) {\n",
       "            url.port = port;\n",
       "          }\n",
       "          frame.src = url;\n",
       "        })();\n",
       "      </script>\n",
       "    "
      ],
      "text/plain": [
       "<IPython.core.display.HTML object>"
      ]
     },
     "metadata": {},
     "output_type": "display_data"
    }
   ],
   "source": [
    "%load_ext tensorboard\n",
    "%tensorboard --logdir=runs"
   ]
  },
  {
   "cell_type": "code",
   "execution_count": null,
   "metadata": {},
   "outputs": [],
   "source": []
  }
 ],
 "metadata": {
  "interpreter": {
   "hash": "66e3e91caafac22b40298658e8a1a933945b57da695ddf98f99e1e6c91e73660"
  },
  "kernelspec": {
   "display_name": "Python 3.8.10 ('penv')",
   "language": "python",
   "name": "python3"
  },
  "language_info": {
   "codemirror_mode": {
    "name": "ipython",
    "version": 3
   },
   "file_extension": ".py",
   "mimetype": "text/x-python",
   "name": "python",
   "nbconvert_exporter": "python",
   "pygments_lexer": "ipython3",
   "version": "3.8.10"
  },
  "orig_nbformat": 4
 },
 "nbformat": 4,
 "nbformat_minor": 2
}
